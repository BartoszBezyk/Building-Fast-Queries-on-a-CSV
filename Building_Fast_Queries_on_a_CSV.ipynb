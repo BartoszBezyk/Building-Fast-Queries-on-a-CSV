{
  "nbformat": 4,
  "nbformat_minor": 0,
  "metadata": {
    "colab": {
      "provenance": [],
      "toc_visible": true
    },
    "kernelspec": {
      "name": "python3",
      "display_name": "Python 3"
    },
    "language_info": {
      "name": "python"
    }
  },
  "cells": [
    {
      "cell_type": "markdown",
      "source": [
        "# Building Fast Queries on a CSV"
      ],
      "metadata": {
        "id": "pjzkVFnBLBM2"
      }
    },
    {
      "cell_type": "markdown",
      "source": [
        "Data 'Laptops' that we will gonna use originally came from [here](https://www.kaggle.com/datasets/muhammetvarl/laptop-price). This is short description of rows:\n",
        "\n",
        "* ID: A unique identifier for the laptop.\n",
        "* Company: The name of the company that produces the laptop.\n",
        "* Product: The name of the laptop.\n",
        "* TypeName: The type of laptop.\n",
        "* Inches: The size of the screen in inches.\n",
        "* ScreenResolution: The resolution of the screen.\n",
        "* CPU: The laptop CPU.\n",
        "* RAM: The amount of RAM in the laptop.\n",
        "* Memory: The size of the hard drive.\n",
        "* GPU: The graphics card name.\n",
        "* OpSys: The name of the operating system.\n",
        "* Weight: The laptop weight.\n",
        "* Price: The price of the laptop."
      ],
      "metadata": {
        "id": "QfNoQOIJLqxi"
      }
    },
    {
      "cell_type": "markdown",
      "source": [
        "The goal of this guided project is to create a class that represents our inventory. The methods in that class will implement the queries that we want to answer about our inventory. We will also preprocess that data to make those queries run faster.\n",
        "\n",
        "Here are some queries that we will want to answer:\n",
        "\n",
        "Given a laptop id, find the corresponding data.\n",
        "Given an amount of money, find whether there are two laptops whose total price is that given amount.\n",
        "Identify all laptops whose price falls within a given budget."
      ],
      "metadata": {
        "id": "tGrlHLMAMU7B"
      }
    },
    {
      "cell_type": "code",
      "source": [
        "import csv\n",
        "import pandas as pd\n",
        "import time\n",
        "import random"
      ],
      "metadata": {
        "id": "GmLQzC06MXAW"
      },
      "execution_count": 1,
      "outputs": []
    },
    {
      "cell_type": "code",
      "source": [
        "!wget http://bioinf-mw.bihz.upwr.edu.pl/students-data/laptops.csv"
      ],
      "metadata": {
        "colab": {
          "base_uri": "https://localhost:8080/"
        },
        "id": "Dayd_oRKMaPN",
        "outputId": "1fc95994-3313-47ee-d526-51efef4180a8"
      },
      "execution_count": 2,
      "outputs": [
        {
          "output_type": "stream",
          "name": "stdout",
          "text": [
            "--2023-05-23 10:41:07--  http://bioinf-mw.bihz.upwr.edu.pl/students-data/laptops.csv\n",
            "Resolving bioinf-mw.bihz.upwr.edu.pl (bioinf-mw.bihz.upwr.edu.pl)... 156.17.187.238\n",
            "Connecting to bioinf-mw.bihz.upwr.edu.pl (bioinf-mw.bihz.upwr.edu.pl)|156.17.187.238|:80... connected.\n",
            "HTTP request sent, awaiting response... 200 OK\n",
            "Length: 197908 (193K) [text/csv]\n",
            "Saving to: ‘laptops.csv’\n",
            "\n",
            "laptops.csv         100%[===================>] 193.27K   131KB/s    in 1.5s    \n",
            "\n",
            "2023-05-23 10:41:09 (131 KB/s) - ‘laptops.csv’ saved [197908/197908]\n",
            "\n"
          ]
        }
      ]
    },
    {
      "cell_type": "code",
      "source": [
        "with open('laptops.csv', encoding='utf-8') as csvfile:\n",
        "    reader = csv.reader(csvfile)\n",
        "   \n",
        "    header = next(reader)\n",
        "\n",
        "    rows = [row for row in reader]\n",
        "\n",
        "print(header)\n",
        "\n",
        "for row in rows[:5]:\n",
        "    print(row)\n"
      ],
      "metadata": {
        "colab": {
          "base_uri": "https://localhost:8080/"
        },
        "id": "HGUaYqTKMcBX",
        "outputId": "5338d1dc-c50d-4234-933e-cea0960b36ec"
      },
      "execution_count": 3,
      "outputs": [
        {
          "output_type": "stream",
          "name": "stdout",
          "text": [
            "['Id', 'Company', 'Product', 'TypeName', 'Inches', 'ScreenResolution', 'Cpu', 'Ram', 'Memory', 'Gpu', 'OpSys', 'Weight', 'Price']\n",
            "['6571244', 'Apple', 'MacBook Pro', 'Ultrabook', '13.3', 'IPS Panel Retina Display 2560x1600', 'Intel Core i5 2.3GHz', '8GB', '128GB SSD', 'Intel Iris Plus Graphics 640', 'macOS', '1.37kg', '1339']\n",
            "['7287764', 'Apple', 'Macbook Air', 'Ultrabook', '13.3', '1440x900', 'Intel Core i5 1.8GHz', '8GB', '128GB Flash Storage', 'Intel HD Graphics 6000', 'macOS', '1.34kg', '898']\n",
            "['3362737', 'HP', '250 G6', 'Notebook', '15.6', 'Full HD 1920x1080', 'Intel Core i5 7200U 2.5GHz', '8GB', '256GB SSD', 'Intel HD Graphics 620', 'No OS', '1.86kg', '575']\n",
            "['9722156', 'Apple', 'MacBook Pro', 'Ultrabook', '15.4', 'IPS Panel Retina Display 2880x1800', 'Intel Core i7 2.7GHz', '16GB', '512GB SSD', 'AMD Radeon Pro 455', 'macOS', '1.83kg', '2537']\n",
            "['8550527', 'Apple', 'MacBook Pro', 'Ultrabook', '13.3', 'IPS Panel Retina Display 2560x1600', 'Intel Core i5 3.1GHz', '8GB', '256GB SSD', 'Intel Iris Plus Graphics 650', 'macOS', '1.37kg', '1803']\n"
          ]
        }
      ]
    },
    {
      "cell_type": "code",
      "source": [
        "class Inventory():                    \n",
        "    \n",
        "    def __init__(self, csv_filename): \n",
        "        with open(csv_filename) as f: \n",
        "            reader = csv.reader(f)\n",
        "            rows = list(reader)\n",
        "        self.header = rows[0]         \n",
        "        self.rows = rows[1:]\n",
        "        for row in self.rows:         \n",
        "            row[-1] = int(row[-1])\n",
        "\n",
        "inventory = Inventory('laptops.csv')  \n",
        "print(inventory.header)               \n",
        "print(len(inventory.rows))"
      ],
      "metadata": {
        "colab": {
          "base_uri": "https://localhost:8080/"
        },
        "id": "Q9VG-S4oMdtf",
        "outputId": "e2038134-44c7-4b80-9758-575a810f6a85"
      },
      "execution_count": 4,
      "outputs": [
        {
          "output_type": "stream",
          "name": "stdout",
          "text": [
            "['Id', 'Company', 'Product', 'TypeName', 'Inches', 'ScreenResolution', 'Cpu', 'Ram', 'Memory', 'Gpu', 'OpSys', 'Weight', 'Price']\n",
            "1303\n"
          ]
        }
      ]
    },
    {
      "cell_type": "markdown",
      "source": [
        "This code defines a class called \"Inventory\" for managing inventory data. The class has an initializer method (init) that takes a CSV file name as an argument. Inside the initializer method, it opens the CSV file, reads its contents using the csv module, and stores the header row in the \"header\" attribute. It then stores the remaining rows of the CSV file (excluding the header) in the \"rows\" attribute. Additionally, the code converts the last element of each row to an integer. An instance of the \"Inventory\" class is created using the file name 'laptops.csv'. Finally, it prints the inventory data header and the number of rows (excluding the header) in the data."
      ],
      "metadata": {
        "id": "PBJ8Qr9xNLYG"
      }
    },
    {
      "cell_type": "code",
      "source": [
        "class Inventory():                    \n",
        "    \n",
        "    def __init__(self, csv_filename): \n",
        "        with open(csv_filename) as f: \n",
        "            reader = csv.reader(f)\n",
        "            rows = list(reader)\n",
        "        self.header = rows[0]         \n",
        "        self.rows = rows[1:]\n",
        "        for row in self.rows:         \n",
        "            row[-1] = int(row[-1])\n",
        "    \n",
        "    def get_laptop_from_id(self, laptop_id):   \n",
        "        for row in self.rows:                  \n",
        "            if laptop_id == row[0]:\n",
        "                return row\n",
        "        return None"
      ],
      "metadata": {
        "id": "dE83K2BeMj5i"
      },
      "execution_count": 5,
      "outputs": []
    },
    {
      "cell_type": "markdown",
      "source": [
        "A new method called \"get_laptop_from_id(self, laptop_id)\" has been added. This method takes a laptop ID as an argument and is responsible for searching the inventory data for the corresponding row based on that ID.\n",
        "\n",
        "Inside the \"get_laptop_from_id(self, laptop_id)\" method, there is a loop that iterates through all the rows in the \"rows\" attribute (inventory data). For each row, it checks if the laptop ID matches the value in the first column (index 0). If there is a match, the entire row is returned as the result. If there is no match, it returns None."
      ],
      "metadata": {
        "id": "tzyycErPNeIV"
      }
    },
    {
      "cell_type": "code",
      "source": [
        "inventory = Inventory('laptops.csv')  \n",
        "print(inventory.get_laptop_from_id('3362737')) \n",
        "print(inventory.get_laptop_from_id('3362736')) "
      ],
      "metadata": {
        "colab": {
          "base_uri": "https://localhost:8080/"
        },
        "id": "_LOlzePZNNsd",
        "outputId": "4d197e52-dab0-472a-fddb-39c77d992815"
      },
      "execution_count": 6,
      "outputs": [
        {
          "output_type": "stream",
          "name": "stdout",
          "text": [
            "['3362737', 'HP', '250 G6', 'Notebook', '15.6', 'Full HD 1920x1080', 'Intel Core i5 7200U 2.5GHz', '8GB', '256GB SSD', 'Intel HD Graphics 620', 'No OS', '1.86kg', 575]\n",
            "None\n"
          ]
        }
      ]
    },
    {
      "cell_type": "code",
      "source": [
        "class Inventory():                    \n",
        "    \n",
        "    def __init__(self, csv_filename): \n",
        "        with open(csv_filename) as f: \n",
        "            reader = csv.reader(f)\n",
        "            rows = list(reader)\n",
        "        self.header = rows[0]         \n",
        "        self.rows = rows[1:]\n",
        "        for row in self.rows:         \n",
        "            row[-1] = int(row[-1])\n",
        "        self.id_to_row = {}\n",
        "        for row in self.rows:\n",
        "          self.id_to_row[row[0]] = row\n",
        "\n",
        "    def get_laptop_from_id_fast(self, laptop_id):\n",
        "      if laptop_id in self.id_to_row:\n",
        "        return self.id_to_row[laptop_id]\n",
        "      return None\n",
        "    \n",
        "    def get_laptop_from_id(self, laptop_id):   \n",
        "        for row in self.rows:                  \n",
        "            if laptop_id == row[0]:\n",
        "                return row\n",
        "        return None"
      ],
      "metadata": {
        "id": "VM2ujKgnNRhM"
      },
      "execution_count": 7,
      "outputs": []
    },
    {
      "cell_type": "markdown",
      "source": [
        "A new dictionary attribute called \"id_to_row\" has been added to the class. This dictionary is used to map laptop IDs to their corresponding rows in the inventory data.\n",
        "\n",
        "In the \"init\" method, a loop has been introduced to populate the \"id_to_row\" dictionary. For each row in the \"rows\" attribute, the laptop ID (found in the first column, index 0) is used as the key, and the entire row is assigned as the value in the dictionary.\n",
        "\n",
        "A new method called \"get_laptop_from_id_fast(self, laptop_id)\" has been implemented. This method allows for faster retrieval of a laptop row by directly accessing the \"id_to_row\" dictionary. If the provided laptop ID exists in the dictionary, the corresponding row is returned. Otherwise, None is returned."
      ],
      "metadata": {
        "id": "FXZkkRCHOAmx"
      }
    },
    {
      "cell_type": "code",
      "source": [
        "inventory = Inventory('laptops.csv')  \n",
        "print(inventory.get_laptop_from_id_fast('3362737')) \n",
        "print(inventory.get_laptop_from_id_fast('3362736'))"
      ],
      "metadata": {
        "colab": {
          "base_uri": "https://localhost:8080/"
        },
        "id": "rhwdn6LSNiEQ",
        "outputId": "9c88bb89-7169-4df6-9b6f-1905ac2ea7d7"
      },
      "execution_count": 8,
      "outputs": [
        {
          "output_type": "stream",
          "name": "stdout",
          "text": [
            "['3362737', 'HP', '250 G6', 'Notebook', '15.6', 'Full HD 1920x1080', 'Intel Core i5 7200U 2.5GHz', '8GB', '256GB SSD', 'Intel HD Graphics 620', 'No OS', '1.86kg', 575]\n",
            "None\n"
          ]
        }
      ]
    },
    {
      "cell_type": "code",
      "source": [
        "random_ids = str([random.randint(1000000, 9999999) for _ in range(10000)])"
      ],
      "metadata": {
        "id": "_bIFacBnNjWQ"
      },
      "execution_count": 9,
      "outputs": []
    },
    {
      "cell_type": "markdown",
      "source": [
        "Generating 10 000 random values in range 1000000 - 9999999"
      ],
      "metadata": {
        "id": "AR-nLHyROMQn"
      }
    },
    {
      "cell_type": "code",
      "source": [
        "total_time_no_dict = 0\n",
        "for id in random_ids:\n",
        "  start = time.time()\n",
        "  inventory.get_laptop_from_id(id)\n",
        "  end = time.time()\n",
        "  result = end - start\n",
        "  total_time_no_dict += result"
      ],
      "metadata": {
        "id": "Mm1QlUOdOElG"
      },
      "execution_count": 10,
      "outputs": []
    },
    {
      "cell_type": "code",
      "source": [
        "total_time_dict = 0\n",
        "for id in random_ids:\n",
        "  start = time.time()\n",
        "  inventory.get_laptop_from_id_fast(id)\n",
        "  end = time.time()\n",
        "  result = end - start\n",
        "  total_time_dict += result"
      ],
      "metadata": {
        "id": "PPnvOpGLOGI_"
      },
      "execution_count": 11,
      "outputs": []
    },
    {
      "cell_type": "markdown",
      "source": [
        "Measuring time for both methods."
      ],
      "metadata": {
        "id": "n2jOlB38Od5Q"
      }
    },
    {
      "cell_type": "code",
      "source": [
        "dict_diff = total_time_no_dict/total_time_dict"
      ],
      "metadata": {
        "id": "sSUOoEvPOH37"
      },
      "execution_count": 16,
      "outputs": []
    },
    {
      "cell_type": "code",
      "source": [
        "inventory = Inventory('laptops.csv')  \n",
        "print('Time for nondictionary method: ' + str(total_time_no_dict))\n",
        "print('Time for dictionary method: ' + str(total_time_dict))\n",
        "print('Dictionary method is ' + str(dict_diff) + ' times faster than the other')"
      ],
      "metadata": {
        "colab": {
          "base_uri": "https://localhost:8080/"
        },
        "id": "PkBuRwltPd6s",
        "outputId": "679af77d-243e-45b1-8fe3-5fabe9f4b56d"
      },
      "execution_count": 17,
      "outputs": [
        {
          "output_type": "stream",
          "name": "stdout",
          "text": [
            "Time for nondictionary method: 7.122251987457275\n",
            "Time for dictionary method: 0.06778359413146973\n",
            "Dictionary method is 105.07338949367757 times faster than the other\n"
          ]
        }
      ]
    },
    {
      "cell_type": "markdown",
      "source": [
        "\n",
        "The method with the dictionary is much faster. The time complexity of the method without the dictionary is O(R), where R is the number of rows. In the second method, the time complexity is constant, O(1). This is because the algorithm creates a dictionary that stores information based on the laptop IDs. Although creating and storing the dictionary requires more space, it allows for a shorter time complexity. "
      ],
      "metadata": {
        "id": "MGakwj8vPG4A"
      }
    },
    {
      "cell_type": "code",
      "source": [
        "class Inventory():                    \n",
        "    \n",
        "    def __init__(self, csv_filename): \n",
        "        with open(csv_filename) as f: \n",
        "            reader = csv.reader(f)\n",
        "            rows = list(reader)\n",
        "        self.header = rows[0]         \n",
        "        self.rows = rows[1:]\n",
        "        for row in self.rows:         \n",
        "            row[-1] = int(row[-1])\n",
        "        self.id_to_row = {}\n",
        "        for row in self.rows:\n",
        "          self.id_to_row[row[0]] = row\n",
        "\n",
        "    def get_laptop_from_id_fast(self, laptop_id):\n",
        "      if laptop_id in self.id_to_row:\n",
        "        return self.id_to_row[laptop_id]\n",
        "      return None\n",
        "    \n",
        "    def get_laptop_from_id(self, laptop_id):   \n",
        "        for row in self.rows:                  \n",
        "            if laptop_id == row[0]:\n",
        "                return row\n",
        "        return None\n",
        "\n",
        "    def check_promotion_dollars(self, dollars):\n",
        "      for row in self.rows:\n",
        "        if dollars == row[-1]:\n",
        "          return True\n",
        "\n",
        "      for i in range(len(self.rows)):\n",
        "        for j in range(len(self.rows)):\n",
        "          if self.rows[i][-1] + self.rows[j][-1] == dollars:\n",
        "            return True\n",
        "      return False  \n"
      ],
      "metadata": {
        "id": "LJyjNb0zOJ0a"
      },
      "execution_count": 18,
      "outputs": []
    },
    {
      "cell_type": "markdown",
      "source": [
        "A new method called \"check_promotion_dollars(self, dollars)\" has been added to the class. This method checks if there is a laptop with a given price or a combination of two laptops whose prices add up to the specified \"dollars\" amount.\n",
        "\n",
        "The \"check_promotion_dollars\" method first iterates through each row in the \"rows\" attribute and checks if the price of any laptop matches the given \"dollars\" value. If a match is found, it returns True.\n",
        "\n",
        "If no direct match is found, the method proceeds to nested loops. It iterates through all combinations of two laptops by using two nested loops. For each combination, it checks if the sum of their prices is equal to the given \"dollars\" value. If a match is found, it returns True.\n",
        "\n",
        "If no match is found in both the direct checks and combinations, the method returns False."
      ],
      "metadata": {
        "id": "94AI43rPQA8n"
      }
    },
    {
      "cell_type": "code",
      "source": [
        "inventory = Inventory('laptops.csv')  \n",
        "print(inventory.check_promotion_dollars(1000))\n",
        "print(inventory.check_promotion_dollars(442))"
      ],
      "metadata": {
        "colab": {
          "base_uri": "https://localhost:8080/"
        },
        "id": "QtfXuWtDPzzy",
        "outputId": "67968d1f-1a98-48ce-9b08-5c988e7a0e06"
      },
      "execution_count": 19,
      "outputs": [
        {
          "output_type": "stream",
          "name": "stdout",
          "text": [
            "True\n",
            "False\n"
          ]
        }
      ]
    },
    {
      "cell_type": "code",
      "source": [
        "class Inventory():                    \n",
        "    \n",
        "    def __init__(self, csv_filename): \n",
        "        with open(csv_filename) as f: \n",
        "            reader = csv.reader(f)\n",
        "            rows = list(reader)\n",
        "        self.header = rows[0]         \n",
        "        self.rows = rows[1:]\n",
        "        for row in self.rows:         \n",
        "            row[-1] = int(row[-1])\n",
        "        self.id_to_row = {}\n",
        "        for row in self.rows:\n",
        "          self.id_to_row[row[0]] = row\n",
        "        self.prices = set()\n",
        "        for row in self.rows:\n",
        "          self.prices.add(row[-1])\n",
        "\n",
        "    def get_laptop_from_id_fast(self, laptop_id):\n",
        "      if laptop_id in self.id_to_row:\n",
        "        return self.id_to_row[laptop_id]\n",
        "      return None\n",
        "    \n",
        "    def get_laptop_from_id(self, laptop_id):   \n",
        "        for row in self.rows:                  \n",
        "            if laptop_id == row[0]:\n",
        "                return row\n",
        "        return None\n",
        "\n",
        "    def check_promotion_dollars(self, dollars):\n",
        "      for row in self.rows:\n",
        "        if dollars == row[-1]:\n",
        "          return True\n",
        "\n",
        "      for i in range(len(self.rows)):\n",
        "        for j in range(len(self.rows)):\n",
        "          if self.rows[i][-1] + self.rows[j][-1] == dollars:\n",
        "            return True\n",
        "      return False  \n",
        "\n",
        "    def check_promotion_dollars_fast(self, dollars):\n",
        "      if dollars in self.prices:\n",
        "        return True\n",
        "\n",
        "      if self.rows[-1] + self.rows[-1] == dollars:\n",
        "        return True\n",
        "      return False\n"
      ],
      "metadata": {
        "id": "OfgbKJyFQFo1"
      },
      "execution_count": 20,
      "outputs": []
    },
    {
      "cell_type": "markdown",
      "source": [
        "The changes made to the code introduce a new method for checking whether a given amount corresponds to the price of a laptop in our inventory or if the combined price of two laptops equals the specified amount. This time, we created a set to store the laptop prices. This reduces the algorithm's complexity, and in the new version (\"check_promotion_dollars_fast\"), the complexity is O(n) instead of O(N^2), where n is the number of laptops in the inventory."
      ],
      "metadata": {
        "id": "aFgOzUvFQWXN"
      }
    },
    {
      "cell_type": "code",
      "source": [
        "inventory = Inventory('laptops.csv')  \n",
        "print(inventory.check_promotion_dollars_fast(1000))\n",
        "print(inventory.check_promotion_dollars_fast(442))"
      ],
      "metadata": {
        "colab": {
          "base_uri": "https://localhost:8080/"
        },
        "id": "GhOHbV5jQYQy",
        "outputId": "89b7f89b-ca48-4793-f9e6-1b1b27ab7e94"
      },
      "execution_count": 21,
      "outputs": [
        {
          "output_type": "stream",
          "name": "stdout",
          "text": [
            "True\n",
            "False\n"
          ]
        }
      ]
    },
    {
      "cell_type": "code",
      "source": [
        "prices = [random.randint(100,5000) for _ in range(1000)]"
      ],
      "metadata": {
        "id": "z33mzsMAQcka"
      },
      "execution_count": 22,
      "outputs": []
    },
    {
      "cell_type": "markdown",
      "source": [
        "Generating list of random prices"
      ],
      "metadata": {
        "id": "190rLKh2QdcN"
      }
    },
    {
      "cell_type": "code",
      "source": [
        "inventory = Inventory('laptops.csv')  "
      ],
      "metadata": {
        "id": "T-7ypSYPQc8X"
      },
      "execution_count": 23,
      "outputs": []
    },
    {
      "cell_type": "code",
      "source": [
        "total_time_no_set = 0\n",
        "for price in prices:\n",
        "  start = time.time()\n",
        "  inventory.check_promotion_dollars(price)\n",
        "  end = time.time()\n",
        "  result = end - start\n",
        "  total_time_no_set += result"
      ],
      "metadata": {
        "id": "PS3t1E2TQlkP"
      },
      "execution_count": 24,
      "outputs": []
    },
    {
      "cell_type": "code",
      "source": [
        "total_time_set = 0\n",
        "for price in prices:\n",
        "  start = time.time()\n",
        "  inventory.check_promotion_dollars_fast(price)\n",
        "  end = time.time()\n",
        "  result = end - start\n",
        "  total_time_set += result"
      ],
      "metadata": {
        "id": "4N2nXlL5Qm--"
      },
      "execution_count": 25,
      "outputs": []
    },
    {
      "cell_type": "code",
      "source": [
        "print('Time for method without set: ' + str(total_time_no_set))\n",
        "print('Time for method with set: ' + str(total_time_set))"
      ],
      "metadata": {
        "colab": {
          "base_uri": "https://localhost:8080/"
        },
        "id": "cwZ1LVQIQoRA",
        "outputId": "400b99b2-1344-4b3c-c312-3b24b1493153"
      },
      "execution_count": 26,
      "outputs": [
        {
          "output_type": "stream",
          "name": "stdout",
          "text": [
            "Time for method without set: 18.75588631629944\n",
            "Time for method with set: 0.0035026073455810547\n"
          ]
        }
      ]
    },
    {
      "cell_type": "code",
      "source": [
        "time_diff_promotion = total_time_no_set/total_time_set\n",
        "print('Second method is '+ str(time_diff_promotion) + ' times faster')"
      ],
      "metadata": {
        "colab": {
          "base_uri": "https://localhost:8080/"
        },
        "id": "p1GfVmCJQwzt",
        "outputId": "fed1e8c9-82dd-4789-80e5-46a0ea91f2dd"
      },
      "execution_count": 28,
      "outputs": [
        {
          "output_type": "stream",
          "name": "stdout",
          "text": [
            "Second method is 5354.835545572119 times faster\n"
          ]
        }
      ]
    },
    {
      "cell_type": "code",
      "source": [
        " def row_price(row):\n",
        "   return row[-1]\n",
        "\n",
        "class Inventory():                    \n",
        "    \n",
        "    def __init__(self, csv_filename): \n",
        "        with open(csv_filename) as f: \n",
        "            reader = csv.reader(f)\n",
        "            rows = list(reader)\n",
        "        self.header = rows[0]         \n",
        "        self.rows = rows[1:]\n",
        "        for row in self.rows:         \n",
        "            row[-1] = int(row[-1])\n",
        "        self.id_to_row = {}\n",
        "        for row in self.rows:\n",
        "          self.id_to_row[row[0]] = row\n",
        "        self.prices = set()\n",
        "        for row in self.rows:\n",
        "          self.prices.add(row[-1])\n",
        "        self.rows_by_price = sorted(self.rows, key=row_price)\n",
        "\n",
        "\n",
        "    def get_laptop_from_id_fast(self, laptop_id):\n",
        "      if laptop_id in self.id_to_row:\n",
        "        return self.id_to_row[laptop_id]\n",
        "      return None\n",
        "    \n",
        "    def get_laptop_from_id(self, laptop_id):   \n",
        "        for row in self.rows:                  \n",
        "            if laptop_id == row[0]:\n",
        "                return row\n",
        "        return None\n",
        "\n",
        "    def check_promotion_dollars(self, dollars):\n",
        "      for row in self.rows:\n",
        "        if dollars == row[-1]:\n",
        "          return True\n",
        "\n",
        "      for i in range(len(self.rows)):\n",
        "        for j in range(len(self.rows)):\n",
        "          if self.rows[i][-1] + self.rows[j][-1] == dollars:\n",
        "            return True\n",
        "      return False  \n",
        "\n",
        "    def check_promotion_dollars_fast(self, dollars):\n",
        "      if dollars in self.prices:\n",
        "        return True\n",
        "\n",
        "      if self.rows[-1] + self.rows[-1] == dollars:\n",
        "        return True\n",
        "      return False\n",
        "\n",
        "    def find_first_laptop_more_expensive(self, target_price):\n",
        "      range_start = 0\n",
        "      range_end = len(self.rows_by_price) - 1\n",
        "      while range_start <= range_end:\n",
        "        range_middle = (range_end + range_start) // 2\n",
        "        price = self.rows_by_price[range_middle][-1]\n",
        "        if price > target_price:\n",
        "            range_end = range_middle - 1\n",
        "        else:\n",
        "            range_start = range_middle + 1\n",
        "      if range_start >= len(self.rows_by_price) or self.rows_by_price[range_start][-1] <= target_price:\n",
        "        return -1\n",
        "      return range_start\n",
        "\n"
      ],
      "metadata": {
        "id": "XtGknVuWQ5p3"
      },
      "execution_count": 29,
      "outputs": []
    },
    {
      "cell_type": "markdown",
      "source": [
        "A new method called \"find_first_laptop_more_expensive\" has been added. This method uses binary search to find the index of the first laptop in the sorted \"rows_by_price\" attribute whose price is greater than the given \"target_price\". It returns the index if found, or -1 if no such laptop is found."
      ],
      "metadata": {
        "id": "T2JQ9htPRaz_"
      }
    },
    {
      "cell_type": "code",
      "source": [
        "inventory = Inventory('laptops.csv')                     # Step 3            \n",
        "print(inventory.find_first_laptop_more_expensive(1000))  # Step 4\n",
        "print(inventory.find_first_laptop_more_expensive(10000))"
      ],
      "metadata": {
        "colab": {
          "base_uri": "https://localhost:8080/"
        },
        "id": "yuN4IdEyRCq4",
        "outputId": "65abfd34-96c0-4548-fdff-96ae2a2b52e4"
      },
      "execution_count": 30,
      "outputs": [
        {
          "output_type": "stream",
          "name": "stdout",
          "text": [
            "683\n",
            "-1\n"
          ]
        }
      ]
    },
    {
      "cell_type": "code",
      "source": [],
      "metadata": {
        "id": "DxIjO9HkRHPT"
      },
      "execution_count": null,
      "outputs": []
    }
  ]
}